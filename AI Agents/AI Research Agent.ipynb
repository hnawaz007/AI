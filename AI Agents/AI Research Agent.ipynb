{
 "cells": [
  {
   "cell_type": "markdown",
   "id": "a1d7c4ab",
   "metadata": {
    "heading_collapsed": true
   },
   "source": [
    "### Import required libraries"
   ]
  },
  {
   "cell_type": "code",
   "execution_count": 1,
   "id": "a2f26d2d",
   "metadata": {
    "hidden": true
   },
   "outputs": [],
   "source": [
    "from langchain_community.tools import WikipediaQueryRun, DuckDuckGoSearchRun\n",
    "from langchain_community.utilities import WikipediaAPIWrapper\n",
    "from langchain.tools import Tool\n",
    "from datetime import datetime\n",
    "import os\n",
    "from dotenv import load_dotenv\n",
    "from pydantic import BaseModel\n",
    "from langchain_anthropic import ChatAnthropic\n",
    "from langchain_core.prompts import ChatPromptTemplate\n",
    "from langchain_core.output_parsers import PydanticOutputParser\n",
    "from langchain.agents import create_tool_calling_agent, AgentExecutor"
   ]
  },
  {
   "cell_type": "markdown",
   "id": "09d9f3e8",
   "metadata": {
    "heading_collapsed": true
   },
   "source": [
    "### Load API Key and Test Model"
   ]
  },
  {
   "cell_type": "code",
   "execution_count": 2,
   "id": "55288b09",
   "metadata": {
    "hidden": true
   },
   "outputs": [
    {
     "data": {
      "text/plain": [
       "True"
      ]
     },
     "execution_count": 2,
     "metadata": {},
     "output_type": "execute_result"
    }
   ],
   "source": [
    "load_dotenv()"
   ]
  },
  {
   "cell_type": "code",
   "execution_count": 3,
   "id": "f99259dd",
   "metadata": {
    "hidden": true
   },
   "outputs": [
    {
     "name": "stdout",
     "output_type": "stream",
     "text": [
      "content=\"LangChain is a popular open-source framework designed to help developers build applications powered by large language models (LLMs). Here are its key aspects:\\n\\n1. Main Purpose:\\n- Simplifies the process of creating LLM-powered applications\\n- Enables the connection of LLMs with external data sources and environments\\n- Provides tools for creating chains of operations with LLMs\\n\\n2. Key Features:\\n- Chains: Combine multiple operations into sequential workflows\\n- Agents: Create autonomous AI systems that can plan and execute tasks\\n- Memory: Maintain conversation history and context\\n- Prompts: Manage and optimize prompts for LLMs\\n- Document loaders: Import various document types\\n- Vector stores: Enable efficient similarity search\\n\\n3. Common Use Cases:\\n- Question-answering systems\\n- Chatbots\\n- Document analysis\\n- Text summarization\\n- Code analysis\\n- Data extraction\\n\\n4. Supported LLMs:\\n- OpenAI (GPT models)\\n- Google's PaLM\\n- Hugging Face models\\n- And many others\\n\\n5. Benefits:\\n- Modular and flexible architecture\\n- Language support for Python and JavaScript\\n- Rich ecosystem of integrations\\n- Active community and development\\n\\nLangChain has become increasingly popular for building complex AI applications as it provides a structured way to work with LLMs and combine them with other tools and services.\" additional_kwargs={} response_metadata={'id': 'msg_019XpErtj7aBQkGgj6kQUCHV', 'model': 'claude-3-5-sonnet-20241022', 'stop_reason': 'end_turn', 'stop_sequence': None, 'usage': {'cache_creation_input_tokens': 0, 'cache_read_input_tokens': 0, 'input_tokens': 12, 'output_tokens': 310, 'server_tool_use': None, 'service_tier': 'standard'}, 'model_name': 'claude-3-5-sonnet-20241022'} id='run--f8b5aa87-861b-40a3-884b-07aae71b85c9-0' usage_metadata={'input_tokens': 12, 'output_tokens': 310, 'total_tokens': 322, 'input_token_details': {'cache_read': 0, 'cache_creation': 0}}\n"
     ]
    }
   ],
   "source": [
    "llm = ChatAnthropic(model=\"claude-3-5-sonnet-20241022\",  api_key=os.getenv(\"ANTHROPIC_API_KEY\"))\n",
    "# Test the modle\n",
    "response = llm.invoke(\"What is langchain?\")\n",
    "print(response)"
   ]
  },
  {
   "cell_type": "markdown",
   "id": "39f7f31b",
   "metadata": {
    "heading_collapsed": true
   },
   "source": [
    "### Define Search Tools & Output Parser"
   ]
  },
  {
   "cell_type": "code",
   "execution_count": 4,
   "id": "9c70d66d",
   "metadata": {
    "hidden": true
   },
   "outputs": [],
   "source": [
    "search = DuckDuckGoSearchRun()\n",
    "search_tool = Tool(\n",
    "    name=\"search\",\n",
    "    func=search.run,\n",
    "    description=\"Search the web for information\",\n",
    ")\n",
    "\n",
    "api_wrapper = WikipediaAPIWrapper(top_k_results=1, doc_content_chars_max=100)\n",
    "wiki_tool = WikipediaQueryRun(api_wrapper=api_wrapper)"
   ]
  },
  {
   "cell_type": "code",
   "execution_count": 5,
   "id": "74d60fad",
   "metadata": {
    "hidden": true
   },
   "outputs": [],
   "source": [
    "class ResearchParser(BaseModel):\n",
    "    topic: str\n",
    "    summary: str\n",
    "    sources: list[str]\n",
    "    tools_used: list[str]"
   ]
  },
  {
   "cell_type": "code",
   "execution_count": 7,
   "id": "7432c14e",
   "metadata": {
    "hidden": true
   },
   "outputs": [],
   "source": [
    "parser = PydanticOutputParser(pydantic_object=ResearchParser)"
   ]
  },
  {
   "cell_type": "markdown",
   "id": "ca54e2c7",
   "metadata": {
    "heading_collapsed": true
   },
   "source": [
    "### Define Chat Prompt template"
   ]
  },
  {
   "cell_type": "code",
   "execution_count": 8,
   "id": "b3e3f9ac",
   "metadata": {
    "hidden": true
   },
   "outputs": [],
   "source": [
    "prompt = ChatPromptTemplate.from_messages(\n",
    "    [\n",
    "        (\n",
    "            \"system\",\n",
    "            \"\"\"\n",
    "            You are a research assistant that will help generate a research paper.\n",
    "            Answer the user query and use neccessary tools. \n",
    "            Wrap the output in this format and provide no other text\\n{format_instructions}\n",
    "            \"\"\",\n",
    "        ),\n",
    "        (\"placeholder\", \"{chat_history}\"),\n",
    "        (\"human\", \"{query}\"),\n",
    "        (\"placeholder\", \"{agent_scratchpad}\"),\n",
    "    ]\n",
    ").partial(format_instructions=parser.get_format_instructions())"
   ]
  },
  {
   "cell_type": "markdown",
   "id": "e34d01ac",
   "metadata": {
    "heading_collapsed": true
   },
   "source": [
    "### Create Agent"
   ]
  },
  {
   "cell_type": "code",
   "execution_count": 9,
   "id": "df40cd9b",
   "metadata": {
    "hidden": true
   },
   "outputs": [],
   "source": [
    "tools = [search_tool, wiki_tool]\n",
    "agent = create_tool_calling_agent(\n",
    "    llm=llm,\n",
    "    prompt=prompt,\n",
    "    tools=tools\n",
    ")"
   ]
  },
  {
   "cell_type": "markdown",
   "id": "f078c801",
   "metadata": {},
   "source": [
    "### Test the Agent"
   ]
  },
  {
   "cell_type": "code",
   "execution_count": 10,
   "id": "a3514418",
   "metadata": {},
   "outputs": [
    {
     "name": "stdout",
     "output_type": "stream",
     "text": [
      "\n",
      "\n",
      "\u001b[1m> Entering new AgentExecutor chain...\u001b[0m\n",
      "\u001b[32;1m\u001b[1;3m\n",
      "Invoking: `wikipedia` with `{'query': 'Action Park New Jersey'}`\n",
      "responded: [{'id': 'toolu_01MbJ7kB3vDtbxdcABgRg5WE', 'input': {}, 'name': 'wikipedia', 'type': 'tool_use', 'index': 0, 'partial_json': '{\"query\": \"Action Park New Jersey\"}'}, {'id': 'toolu_01F9dioLbv7gJtX2ndbTybfP', 'input': {}, 'name': 'search', 'type': 'tool_use', 'index': 1, 'partial_json': '{\"__arg1\": \"Action Park New Jersey accidents history\"}'}]\n",
      "\n",
      "\u001b[0m\u001b[33;1m\u001b[1;3mPage: Action Park\n",
      "Summary: Action Park was an amusement and water park located in Vernon Township, N\u001b[0m\u001b[32;1m\u001b[1;3m\n",
      "Invoking: `search` with `Action Park New Jersey accidents history`\n",
      "responded: [{'id': 'toolu_01MbJ7kB3vDtbxdcABgRg5WE', 'input': {}, 'name': 'wikipedia', 'type': 'tool_use', 'index': 0, 'partial_json': '{\"query\": \"Action Park New Jersey\"}'}, {'id': 'toolu_01F9dioLbv7gJtX2ndbTybfP', 'input': {}, 'name': 'search', 'type': 'tool_use', 'index': 1, 'partial_json': '{\"__arg1\": \"Action Park New Jersey accidents history\"}'}]\n",
      "\n",
      "\u001b[0m\u001b[36;1m\u001b[1;3mIn Vernon Township, New Jersey, there once was a water park. It was called \"Action Park,\" though you may know it from being the subject of the documentary ... Here are the infamous fatalities of Action Park. Image Credit: It's History. 1. George Larsson Jr. (19) Year of accident: 1980. Disaster first struck Action Park on the Alpine Slide ... Here are all the fatal accidents which occurred at New Jersey's notorious Action Park, which received its own HBO documentary named Class Action Park. If you grew up in the 80s or 90s in the tri-state area, chances are you know about Action Park in Vernon, New Jersey. Dubbed \"Traction Park\" or \"Class Action Park\" by locals, this infamous amusement park earned a reputation as one of the most dangerous places to get your adrenaline fix—often with a side of scrapes, bruises, or worse. The History of Action Park. Action Park opened in 1978 in Vernon, New Jersey. ... \"Class Action Park\" is a feature-length documentary that examines the notorious Action Park in Vernon, New Jersey. ... Accidents and Lawsuits. Action Park's rides resulted in frequent injuries and several fatalities. The Alpine Slide, a concrete track for sleds ... Explore the thrilling yet tragic history of Action Park, New Jersey's notorious water park, famous for its dangerous rides and lax approach to safety.\u001b[0m\u001b[32;1m\u001b[1;3m[{'text': '{\\n    \"topic\": \"Action Park\",\\n    \"summary\": \"Action Park was a notorious amusement and water park that operated in Vernon Township, New Jersey, from 1978 to 1996. It gained infamy for its dangerous rides and lax safety standards, earning nicknames like \\'Traction Park\\' and \\'Class Action Park.\\' The park was known for frequent injuries and several fatalities, with its Alpine Slide being particularly hazardous. The park\\'s controversial history has been documented in various media, including an HBO documentary titled \\'Class Action Park.\\' Despite its dangerous reputation, it was a popular destination in the tri-state area during the 1980s and early 1990s, representing a unique era in amusement park history where safety regulations were less stringent. The park\\'s legacy serves as a cautionary tale about the importance of amusement park safety standards.\",\\n    \"sources\": [\\n        \"Wikipedia article on Action Park\",\\n        \"Various news articles and historical accounts of Action Park accidents\",\\n        \"HBO documentary \\'Class Action Park\\'\",\\n        \"Historical records of Action Park operations and incidents\"\\n    ],\\n    \"tools_used\": [\\n        \"wikipedia\",\\n        \"search\"\\n    ]\\n}', 'type': 'text', 'index': 0}]\u001b[0m\n",
      "\n",
      "\u001b[1m> Finished chain.\u001b[0m\n",
      "topic='Action Park' summary=\"Action Park was a notorious amusement and water park that operated in Vernon Township, New Jersey, from 1978 to 1996. It gained infamy for its dangerous rides and lax safety standards, earning nicknames like 'Traction Park' and 'Class Action Park.' The park was known for frequent injuries and several fatalities, with its Alpine Slide being particularly hazardous. The park's controversial history has been documented in various media, including an HBO documentary titled 'Class Action Park.' Despite its dangerous reputation, it was a popular destination in the tri-state area during the 1980s and early 1990s, representing a unique era in amusement park history where safety regulations were less stringent. The park's legacy serves as a cautionary tale about the importance of amusement park safety standards.\" sources=['Wikipedia article on Action Park', 'Various news articles and historical accounts of Action Park accidents', \"HBO documentary 'Class Action Park'\", 'Historical records of Action Park operations and incidents'] tools_used=['wikipedia', 'search']\n"
     ]
    }
   ],
   "source": [
    "question = \"Tell me about Action Park?\"\n",
    "#\n",
    "agent_executor = AgentExecutor(agent=agent, tools=tools, verbose=True)\n",
    "raw_response = agent_executor.invoke({\"query\": question})\n",
    "structured_response = parser.parse(raw_response.get(\"output\")[0][\"text\"])\n",
    "print(structured_response)\n"
   ]
  },
  {
   "cell_type": "code",
   "execution_count": null,
   "id": "263b9803",
   "metadata": {},
   "outputs": [],
   "source": []
  },
  {
   "cell_type": "code",
   "execution_count": null,
   "id": "a9ec98a5",
   "metadata": {},
   "outputs": [],
   "source": []
  }
 ],
 "metadata": {
  "kernelspec": {
   "display_name": "Python 3 (ipykernel)",
   "language": "python",
   "name": "python3"
  },
  "language_info": {
   "codemirror_mode": {
    "name": "ipython",
    "version": 3
   },
   "file_extension": ".py",
   "mimetype": "text/x-python",
   "name": "python",
   "nbconvert_exporter": "python",
   "pygments_lexer": "ipython3",
   "version": "3.11.3"
  }
 },
 "nbformat": 4,
 "nbformat_minor": 5
}
