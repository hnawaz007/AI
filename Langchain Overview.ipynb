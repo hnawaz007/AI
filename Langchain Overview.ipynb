{
 "cells": [
  {
   "cell_type": "code",
   "execution_count": 1,
   "id": "764d0743",
   "metadata": {},
   "outputs": [],
   "source": [
    "from langchain_ollama import ChatOllama\n",
    "from langchain.schema import HumanMessage"
   ]
  },
  {
   "cell_type": "code",
   "execution_count": 2,
   "id": "f72059e1",
   "metadata": {},
   "outputs": [],
   "source": [
    "# Load the chat model (e.g., llama3 or mistral)\n",
    "chat_model = ChatOllama(model=\"llama3\")"
   ]
  },
  {
   "cell_type": "code",
   "execution_count": 4,
   "id": "d310fd1e",
   "metadata": {},
   "outputs": [],
   "source": [
    "# Define a simple conversation input\n",
    "messages = [HumanMessage(content=\"Tell me a fun fact about space.\")]\n",
    "\n",
    "# Invoke the model directly\n",
    "response = chat_model.invoke(messages)"
   ]
  },
  {
   "cell_type": "code",
   "execution_count": 5,
   "id": "37813b15",
   "metadata": {},
   "outputs": [
    {
     "name": "stdout",
     "output_type": "stream",
     "text": [
      "Blast off! Here's a fun fact about space:\n",
      "\n",
      "**There's a giant storm on Jupiter that's been raging for at least 187 years!**\n",
      "\n",
      "The Great Red Spot, as it's called, is a persistent anticyclonic storm on Jupiter, which means it's a high-pressure region with clockwise rotation. It was first observed in 1831 and has been continuously monitored since then.\n",
      "\n",
      "This gargantuan storm is so large that three Earths could fit inside it comfortably! Despite its size, the Great Red Spot is actually shrinking over time, but it remains one of the most iconic and fascinating features of our solar system's largest planet.\n",
      "\n",
      "Isn't space just full of amazing surprises?\n"
     ]
    }
   ],
   "source": [
    "# Print the response\n",
    "print(response.content)"
   ]
  },
  {
   "cell_type": "code",
   "execution_count": 6,
   "id": "eb26c4f9",
   "metadata": {},
   "outputs": [],
   "source": [
    "from langchain_core.prompts import ChatPromptTemplate\n",
    "from langchain_ollama.llms import OllamaLLM"
   ]
  },
  {
   "cell_type": "code",
   "execution_count": 8,
   "id": "07b2ebb6",
   "metadata": {},
   "outputs": [],
   "source": [
    "template = \"\"\"Question: {question}\n",
    "\n",
    "Answer: Let's think step by step.\"\"\""
   ]
  },
  {
   "cell_type": "code",
   "execution_count": 9,
   "id": "1e273e7c",
   "metadata": {},
   "outputs": [],
   "source": [
    "model = OllamaLLM(model=\"llama3\")\n",
    "prompt = ChatPromptTemplate.from_template(template)"
   ]
  },
  {
   "cell_type": "code",
   "execution_count": 13,
   "id": "fe5ce373",
   "metadata": {},
   "outputs": [],
   "source": [
    "from langchain_core.output_parsers import StrOutputParser\n",
    "chain = prompt | model | StrOutputParser()"
   ]
  },
  {
   "cell_type": "code",
   "execution_count": 14,
   "id": "88785000",
   "metadata": {},
   "outputs": [
    {
     "data": {
      "text/plain": [
       "'A clever approach! LangChain, huh? Alright, let\\'s break it down...\\n\\nLangChain... *thinks*\\n\\nHmm, \"Lang\" might refer to language, and \"Chain\" could imply a connection or a series of things. Putting the two together, I\\'d guess that LangChain is some sort of language-based system or tool that connects or links things in a meaningful way.\\n\\nAm I on the right track?'"
      ]
     },
     "execution_count": 14,
     "metadata": {},
     "output_type": "execute_result"
    }
   ],
   "source": [
    "chain.invoke({\"question\": \"What is LangChain?\"})"
   ]
  },
  {
   "cell_type": "code",
   "execution_count": 33,
   "id": "c6348ed2",
   "metadata": {},
   "outputs": [],
   "source": [
    "import ollama\n",
    "import yfinance as yf\n",
    "from typing import Dict, Any, Callable\n",
    "from langchain.agents import initialize_agent, Tool\n",
    "from langchain.tools import tool\n",
    "\n",
    "\n",
    "def get_stock_price(symbol: str) -> float:\n",
    "    \"\"\"Retrieves the stock ticker symbol market price.\"\"\"\n",
    "    try:\n",
    "        ticker = yf.Ticker(symbol)\n",
    "        return ticker.info.get('regularMarketPrice') or ticket.fast_info.last_price\n",
    "    except Exception as e:\n",
    "        return f\"Error: {e}\""
   ]
  },
  {
   "cell_type": "code",
   "execution_count": 34,
   "id": "4c1d0b09",
   "metadata": {},
   "outputs": [
    {
     "name": "stdout",
     "output_type": "stream",
     "text": [
      "Prompt: What is the current stock price of Microsoft?\n"
     ]
    }
   ],
   "source": [
    "# promot\n",
    "prompt = 'What is the current stock price of Microsoft?'\n",
    "print('Prompt:', prompt)\n",
    "\n",
    "# map the tool\n",
    "available_functions: Dict[str, Callable] = {\n",
    "    'get_stock_price': get_stock_price,\n",
    "}\n",
    "# Model\n",
    "response = ollama.chat(\n",
    "    'llama3.2',\n",
    "    messages=[{'role': 'user', 'content': prompt}],\n",
    "    tools=[get_stock_price],\n",
    ")\n",
    "\n"
   ]
  },
  {
   "cell_type": "code",
   "execution_count": 35,
   "id": "6e89e27c",
   "metadata": {},
   "outputs": [
    {
     "name": "stdout",
     "output_type": "stream",
     "text": [
      "Calling function: get_stock_price\n",
      "Arguments: {'symbol': 'MSFT'}\n",
      "Function output: 388.56\n"
     ]
    }
   ],
   "source": [
    "if response.message.tool_calls:\n",
    "    for tool in response.message.tool_calls:\n",
    "        if function_to_call := available_functions.get(tool.function.name):\n",
    "            print('Calling function:', tool.function.name)\n",
    "            print('Arguments:', tool.function.arguments)\n",
    "            print('Function output:', function_to_call(**tool.function.arguments))\n",
    "        else:\n",
    "            print('Function', tool.function.name, 'not found')"
   ]
  },
  {
   "cell_type": "code",
   "execution_count": null,
   "id": "184f048a",
   "metadata": {},
   "outputs": [],
   "source": [
    "# required libraries for this exercise.\n",
    "!pip install langchain_chroma\n",
    "!pip install sentence-transformers\n",
    "!pip install langchain-huggingface"
   ]
  },
  {
   "cell_type": "code",
   "execution_count": 54,
   "id": "8eb950f2",
   "metadata": {},
   "outputs": [],
   "source": [
    "# import\n",
    "from langchain_chroma import Chroma\n",
    "from langchain_community.document_loaders import TextLoader\n",
    "from langchain_huggingface import HuggingFaceEmbeddings\n",
    "from langchain_text_splitters import CharacterTextSplitter"
   ]
  },
  {
   "cell_type": "code",
   "execution_count": 55,
   "id": "79d41e77",
   "metadata": {},
   "outputs": [],
   "source": [
    "# load the document and split it into chunks\n",
    "loader = TextLoader(\"state_of_the_union.txt\", encoding='utf-8')\n",
    "documents = loader.load()\n"
   ]
  },
  {
   "cell_type": "code",
   "execution_count": 56,
   "id": "46603b89",
   "metadata": {},
   "outputs": [],
   "source": [
    "# split it into chunks\n",
    "text_splitter = CharacterTextSplitter(chunk_size=1000, chunk_overlap=0)\n",
    "docs = text_splitter.split_documents(documents)\n"
   ]
  },
  {
   "cell_type": "code",
   "execution_count": 57,
   "id": "1c9486af",
   "metadata": {},
   "outputs": [],
   "source": [
    "# create the open-source embedding function\n",
    "embedding_function = SentenceTransformerEmbeddings(model_name=\"all-MiniLM-L6-v2\")\n",
    "\n",
    "# load it into Chroma\n",
    "db = Chroma.from_documents(docs, embedding_function)"
   ]
  },
  {
   "cell_type": "code",
   "execution_count": 58,
   "id": "69eb8b9d",
   "metadata": {},
   "outputs": [],
   "source": [
    "# query it\n",
    "query = \"What did the president say about Ketanji Brown Jackson\"\n",
    "docs = db.similarity_search(query)"
   ]
  },
  {
   "cell_type": "code",
   "execution_count": 59,
   "id": "f7c3d77d",
   "metadata": {},
   "outputs": [
    {
     "name": "stdout",
     "output_type": "stream",
     "text": [
      "Tonight. I call on the Senate to: Pass the Freedom to Vote Act. Pass the John Lewis Voting Rights Act. And while you’re at it, pass the Disclose Act so Americans can know who is funding our elections. \n",
      "\n",
      "Tonight, I’d like to honor someone who has dedicated his life to serve this country: Justice Stephen Breyer—an Army veteran, Constitutional scholar, and retiring Justice of the United States Supreme Court. Justice Breyer, thank you for your service. \n",
      "\n",
      "One of the most serious constitutional responsibilities a President has is nominating someone to serve on the United States Supreme Court. \n",
      "\n",
      "And I did that 4 days ago, when I nominated Circuit Court of Appeals Judge Ketanji Brown Jackson. One of our nation’s top legal minds, who will continue Justice Breyer’s legacy of excellence.\n"
     ]
    }
   ],
   "source": [
    "# print results\n",
    "print(docs[0].page_content)"
   ]
  },
  {
   "cell_type": "code",
   "execution_count": null,
   "id": "91fd6fbd",
   "metadata": {},
   "outputs": [],
   "source": []
  }
 ],
 "metadata": {
  "kernelspec": {
   "display_name": "Python 3 (ipykernel)",
   "language": "python",
   "name": "python3"
  },
  "language_info": {
   "codemirror_mode": {
    "name": "ipython",
    "version": 3
   },
   "file_extension": ".py",
   "mimetype": "text/x-python",
   "name": "python",
   "nbconvert_exporter": "python",
   "pygments_lexer": "ipython3",
   "version": "3.11.3"
  }
 },
 "nbformat": 4,
 "nbformat_minor": 5
}
